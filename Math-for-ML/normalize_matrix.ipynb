{
 "cells": [
  {
   "cell_type": "code",
   "execution_count": 97,
   "metadata": {},
   "outputs": [],
   "source": [
    "import numpy as np\n",
    "from numpy import linalg as LA"
   ]
  },
  {
   "cell_type": "code",
   "execution_count": 63,
   "metadata": {},
   "outputs": [],
   "source": [
    "matrix = np.array([[2., 3., 5., 1., 4.], [500., 700., 1800., 300., 1200.], [2., 1., 2., 3., 2.]])"
   ]
  },
  {
   "cell_type": "code",
   "execution_count": 64,
   "metadata": {},
   "outputs": [
    {
     "data": {
      "text/plain": [
       "array([[2.0e+00, 3.0e+00, 5.0e+00, 1.0e+00, 4.0e+00],\n",
       "       [5.0e+02, 7.0e+02, 1.8e+03, 3.0e+02, 1.2e+03],\n",
       "       [2.0e+00, 1.0e+00, 2.0e+00, 3.0e+00, 2.0e+00]])"
      ]
     },
     "execution_count": 64,
     "metadata": {},
     "output_type": "execute_result"
    }
   ],
   "source": [
    "matrix"
   ]
  },
  {
   "cell_type": "code",
   "execution_count": 65,
   "metadata": {},
   "outputs": [
    {
     "data": {
      "text/plain": [
       "(3, 5)"
      ]
     },
     "execution_count": 65,
     "metadata": {},
     "output_type": "execute_result"
    }
   ],
   "source": [
    "matrix.shape"
   ]
  },
  {
   "cell_type": "code",
   "execution_count": 68,
   "metadata": {},
   "outputs": [
    {
     "name": "stdout",
     "output_type": "stream",
     "text": [
      "row = 0, mean = 0.0, stddev = 1.4142135623730951\n",
      "row = 1, mean = 0.0, stddev = 540.3702434442519\n",
      "row = 2, mean = 0.0, stddev = 0.6324555320336759\n"
     ]
    }
   ],
   "source": [
    "D = matrix.shape[0]\n",
    "for row in range(D):\n",
    "    mean, stddev = np.mean(matrix[row,:]), np.std(matrix[row,:])   \n",
    "    print(f'row = {row}, mean = {mean}, stddev = {stddev}')\n",
    "    matrix[row,:] = (matrix[row,:] - mean)/stddev "
   ]
  },
  {
   "cell_type": "code",
   "execution_count": 69,
   "metadata": {},
   "outputs": [
    {
     "data": {
      "text/plain": [
       "array([[-0.70710678,  0.        ,  1.41421356, -1.41421356,  0.70710678],\n",
       "       [-0.74023321, -0.37011661,  1.66552472, -1.11034982,  0.55517491],\n",
       "       [ 0.        , -1.58113883,  0.        ,  1.58113883,  0.        ]])"
      ]
     },
     "execution_count": 69,
     "metadata": {},
     "output_type": "execute_result"
    }
   ],
   "source": [
    "matrix"
   ]
  },
  {
   "cell_type": "code",
   "execution_count": 70,
   "metadata": {},
   "outputs": [],
   "source": [
    "def cov_naive(X):\n",
    "    \"\"\"Compute the covariance for a dataset of size (D,N) \n",
    "    where D is the dimension and N is the number of data points\"\"\"\n",
    "    D, N = X.shape\n",
    "    covariance = np.zeros((D, D))\n",
    "\n",
    "    for i in range(D):\n",
    "        for j in range(i, D):                      \n",
    "            x = X[i, :]\n",
    "            y = X[j, :]\n",
    "            sum_xy = np.dot(x, y) / N\n",
    "            if i == j:\n",
    "                covariance[i, j] = sum_xy\n",
    "            else:                        \n",
    "                covariance[i, j] = covariance[j, i] = sum_xy\n",
    "    return covariance"
   ]
  },
  {
   "cell_type": "code",
   "execution_count": 71,
   "metadata": {},
   "outputs": [
    {
     "data": {
      "text/plain": [
       "array([[ 1.        ,  0.96833426, -0.4472136 ],\n",
       "       [ 0.96833426,  1.        , -0.23408229],\n",
       "       [-0.4472136 , -0.23408229,  1.        ]])"
      ]
     },
     "execution_count": 71,
     "metadata": {},
     "output_type": "execute_result"
    }
   ],
   "source": [
    "cov_naive(matrix)"
   ]
  },
  {
   "cell_type": "code",
   "execution_count": 75,
   "metadata": {},
   "outputs": [],
   "source": [
    "def cov_naive_2(X):\n",
    "    \"\"\"Compute the covariance for a dataset of size (D,N) \n",
    "    where D is the dimension and N is the number of data points\"\"\"\n",
    "    D, N = X.shape\n",
    "    covariance = np.zeros((D, D))\n",
    "    \n",
    "    for i in range(N):                     \n",
    "        x = X[:, i]\n",
    "        covariance += np.outer(x, x)\n",
    "    return covariance/N"
   ]
  },
  {
   "cell_type": "code",
   "execution_count": 76,
   "metadata": {},
   "outputs": [
    {
     "data": {
      "text/plain": [
       "array([[ 1.        ,  0.96833426, -0.4472136 ],\n",
       "       [ 0.96833426,  1.        , -0.23408229],\n",
       "       [-0.4472136 , -0.23408229,  1.        ]])"
      ]
     },
     "execution_count": 76,
     "metadata": {},
     "output_type": "execute_result"
    }
   ],
   "source": [
    "cov_naive_2(matrix)"
   ]
  },
  {
   "cell_type": "code",
   "execution_count": 74,
   "metadata": {},
   "outputs": [
    {
     "data": {
      "text/plain": [
       "array([[ 1.        ,  0.96833426, -0.4472136 ],\n",
       "       [ 0.96833426,  1.        , -0.23408229],\n",
       "       [-0.4472136 , -0.23408229,  1.        ]])"
      ]
     },
     "execution_count": 74,
     "metadata": {},
     "output_type": "execute_result"
    }
   ],
   "source": [
    "np.cov(matrix, bias=True)  "
   ]
  },
  {
   "cell_type": "code",
   "execution_count": 92,
   "metadata": {},
   "outputs": [],
   "source": [
    "from numpy import linalg as LA\n",
    "\n",
    "test = np.array([2, 3, 5, 1, 4])\n",
    "idx = test.argsort()[::-1]  "
   ]
  },
  {
   "cell_type": "code",
   "execution_count": 93,
   "metadata": {},
   "outputs": [],
   "source": [
    "# np.take_along_axis(test, idx, axis=0)"
   ]
  },
  {
   "cell_type": "code",
   "execution_count": 96,
   "metadata": {},
   "outputs": [
    {
     "data": {
      "text/plain": [
       "array([2, 4, 1, 0, 3])"
      ]
     },
     "execution_count": 96,
     "metadata": {},
     "output_type": "execute_result"
    }
   ],
   "source": [
    "idx"
   ]
  },
  {
   "cell_type": "code",
   "execution_count": 98,
   "metadata": {},
   "outputs": [],
   "source": [
    "def eig(S):\n",
    "    \"\"\"Compute the eigenvalues and corresponding eigenvectors \n",
    "        for the covariance matrix S.\n",
    "    Args:\n",
    "        S: ndarray, covariance matrix\n",
    "    \n",
    "    Returns:\n",
    "        (eigvals, eigvecs): ndarray, the eigenvalues and eigenvectors\n",
    "\n",
    "    Note:\n",
    "        the eigenvals and eigenvecs should be sorted in descending\n",
    "        order of the eigen values\n",
    "    \"\"\"\n",
    "    eig_values, eig_vectors = LA.eig(S)\n",
    "    idx = eig_values.argsort()[::-1]   \n",
    "    eig_values = eig_values[idx]\n",
    "    eig_vectors = eig_vectors[:,idx]\n",
    "    return (eig_values, eig_vectors)"
   ]
  },
  {
   "cell_type": "code",
   "execution_count": 107,
   "metadata": {},
   "outputs": [],
   "source": [
    "matrix = np.array([[1, 2, 3], [2, 1, 8]])\n",
    "cov_matrix = np.cov(matrix, bias=True)"
   ]
  },
  {
   "cell_type": "code",
   "execution_count": 108,
   "metadata": {},
   "outputs": [],
   "source": [
    "eig_values, eig_vectors = eig(cov_matrix)"
   ]
  },
  {
   "cell_type": "code",
   "execution_count": 109,
   "metadata": {},
   "outputs": [
    {
     "data": {
      "text/plain": [
       "array([[-0.2098553 , -0.97773245],\n",
       "       [-0.97773245,  0.2098553 ]])"
      ]
     },
     "execution_count": 109,
     "metadata": {},
     "output_type": "execute_result"
    }
   ],
   "source": [
    "eig_vectors"
   ]
  },
  {
   "cell_type": "code",
   "execution_count": null,
   "metadata": {},
   "outputs": [],
   "source": []
  }
 ],
 "metadata": {
  "kernelspec": {
   "display_name": "ada_py",
   "language": "python",
   "name": "ada_py"
  },
  "language_info": {
   "codemirror_mode": {
    "name": "ipython",
    "version": 3
   },
   "file_extension": ".py",
   "mimetype": "text/x-python",
   "name": "python",
   "nbconvert_exporter": "python",
   "pygments_lexer": "ipython3",
   "version": "3.6.9"
  }
 },
 "nbformat": 4,
 "nbformat_minor": 2
}
